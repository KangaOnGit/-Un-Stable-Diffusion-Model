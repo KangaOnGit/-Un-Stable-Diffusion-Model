{
  "cells": [
    {
      "cell_type": "markdown",
      "metadata": {
        "id": "rKWHgBcVSIES"
      },
      "source": [
        "# U-Net Denoising"
      ]
    },
    {
      "cell_type": "code",
      "source": [
        "import torch\n",
        "import torch.nn as nn\n",
        "import torch.optim as optim\n",
        "import torch.nn.functional as F\n",
        "import matplotlib.pyplot as plt\n",
        "from torchvision import transforms\n",
        "import numpy as np\n",
        "\n",
        "# 1. Tạo ảnh số 5 dưới dạng ma trận nhị phân kích thước 7x7\n",
        "image = torch.tensor([\n",
        "    [0, 1, 1, 1, 1, 1, 0],\n",
        "    [0, 1, 0, 0, 0, 0, 0],\n",
        "    [0, 1, 0, 0, 0, 0, 0],\n",
        "    [0, 1, 1, 1, 1, 1, 0],\n",
        "    [0, 0, 0, 0, 0, 1, 0],\n",
        "    [0, 1, 0, 0, 0, 1, 0],\n",
        "    [0, 1, 1, 1, 1, 1, 0]\n",
        "], dtype=torch.float32)\n",
        "\n",
        "# 2. Thêm nhiễu Gaussian\n",
        "num_steps = 3\n",
        "timesteps = torch.linspace(0, 1, num_steps)\n",
        "def noising_process(x0, t):\n",
        "    noise = torch.randn_like(x0) * t\n",
        "    return x0 + noise\n",
        "\n",
        "noisy_images = [noising_process(image, t) for t in timesteps]\n",
        "\n",
        "print(len(noisy_images))\n",
        "\n",
        "# Hiển thị ảnh gốc và ảnh bị nhiễu\n",
        "fig, axes = plt.subplots(1, 3, figsize=(10, 3))\n",
        "\n",
        "for i, noisy_img in enumerate(noisy_images):\n",
        "    if i == 0:\n",
        "        axes[0].imshow(image, cmap='gray')\n",
        "        axes[0].set_title(\"Gốc (số 5)\")\n",
        "    else:\n",
        "        axes[i].imshow(noisy_img, cmap='gray')\n",
        "        axes[i].set_title(f\"Nhiễu {i}\")\n",
        "plt.show()"
      ],
      "metadata": {
        "colab": {
          "base_uri": "https://localhost:8080/",
          "height": 327
        },
        "id": "Vcbu20UoF9nI",
        "outputId": "0d4c5534-5f24-465c-b593-1c63291424c0"
      },
      "execution_count": null,
      "outputs": [
        {
          "output_type": "stream",
          "name": "stdout",
          "text": [
            "3\n"
          ]
        },
        {
          "output_type": "display_data",
          "data": {
            "text/plain": [
              "<Figure size 1000x300 with 3 Axes>"
            ],
            "image/png": "[encoded data removed]"
          },
          "metadata": {}
        }
      ]
    },
    {
      "cell_type": "code",
      "source": [
        "timesteps"
      ],
      "metadata": {
        "colab": {
          "base_uri": "https://localhost:8080/"
        },
        "id": "QBVeP7IzS3Ve",
        "outputId": "ce39de97-3a6d-4447-e3cf-27e803c961c7"
      },
      "execution_count": null,
      "outputs": [
        {
          "output_type": "execute_result",
          "data": {
            "text/plain": [
              "tensor([0.0000, 0.5000, 1.0000])"
            ]
          },
          "metadata": {},
          "execution_count": 2
        }
      ]
    },
    {
      "cell_type": "code",
      "source": [
        "0 1 2 T-1"
      ],
      "metadata": {
        "id": "KXIckKZsTLai"
      },
      "execution_count": null,
      "outputs": []
    },
    {
      "cell_type": "code",
      "execution_count": null,
      "metadata": {
        "colab": {
          "base_uri": "https://localhost:8080/"
        },
        "id": "zwfNVAADSZWi",
        "outputId": "3a9091df-01e7-4f55-a16d-5430167f0a2e"
      },
      "outputs": [
        {
          "output_type": "stream",
          "name": "stdout",
          "text": [
            "Epoch [0/400], Loss: 0.4811\n",
            "Epoch [100/400], Loss: 0.0122\n",
            "Epoch [200/400], Loss: 0.0353\n",
            "Epoch [300/400], Loss: 0.0067\n"
          ]
        },
        {
          "output_type": "display_data",
          "data": {
            "text/plain": [
              "<Figure size 1000x300 with 3 Axes>"
            ],
            "image/png": "[encoded data removed]"
          },
          "metadata": {}
        }
      ],
      "source": [
        "# 3. Xây dựng mô hình UNET đơn giản\n",
        "class UNet(nn.Module):\n",
        "    def __init__(self):\n",
        "        super(UNet, self).__init__()\n",
        "        self.encoder = nn.Sequential(\n",
        "            nn.Conv2d(1, 8, kernel_size=3, padding=1),\n",
        "            nn.ReLU(),\n",
        "            nn.Conv2d(8, 16, kernel_size=3, padding=1),\n",
        "        )\n",
        "        self.decoder = nn.Sequential(\n",
        "            nn.Conv2d(16, 8, kernel_size=3, padding=1),\n",
        "            nn.ReLU(),\n",
        "            nn.Conv2d(8, 1, kernel_size=3, padding=1),\n",
        "        )\n",
        "\n",
        "    def forward(self, x):\n",
        "        x = self.encoder(x)\n",
        "        x = self.decoder(x)\n",
        "        return x\n",
        "\n",
        "model = UNet()\n",
        "optimizer = optim.Adam(model.parameters(), lr=0.01)\n",
        "criterion = nn.MSELoss()\n",
        "\n",
        "# 4. Huấn luyện mô hình\n",
        "num_epochs = 400\n",
        "for epoch in range(num_epochs):\n",
        "    t = torch.rand(1)  # Lấy một giá trị t ngẫu nhiên\n",
        "    noisy_image = noising_process(image, t).unsqueeze(0).unsqueeze(0)\n",
        "    clean_image = image.unsqueeze(0).unsqueeze(0)\n",
        "\n",
        "    optimizer.zero_grad()\n",
        "    output = model(noisy_image)\n",
        "    loss = criterion(output, noisy_image)\n",
        "    loss.backward()\n",
        "    optimizer.step()\n",
        "\n",
        "    if epoch % 100 == 0:\n",
        "        print(f\"Epoch [{epoch}/{num_epochs}], Loss: {loss.item():.4f}\")\n",
        "\n",
        "# 5. Dự đoán với ảnh nhiễu\n",
        "noisy_test = noising_process(image, torch.tensor(0.2)).unsqueeze(0).unsqueeze(0)\n",
        "denoised_output = model(noisy_test).squeeze().detach()\n",
        "\n",
        "# Hiển thị ảnh gốc, ảnh nhiễu nhẹ và ảnh sau khi khử nhiễu\n",
        "fig, axes = plt.subplots(1, 3, figsize=(10, 3))\n",
        "axes[0].imshow(image, cmap='gray')\n",
        "axes[0].set_title(\"Gốc (số 5)\")\n",
        "axes[1].imshow(noisy_test.squeeze(), cmap='gray')\n",
        "axes[1].set_title(\"Ảnh Nhiễu Nhẹ\")\n",
        "axes[2].imshow(denoised_output, cmap='gray')\n",
        "axes[2].set_title(\"Ảnh Sau Khử Nhiễu\")\n",
        "plt.show()"
      ]
    },
    {
      "cell_type": "markdown",
      "metadata": {
        "id": "hw3sanmUSj9L"
      },
      "source": [
        "# Diffusion Model"
      ]
    },
    {
      "cell_type": "code",
      "execution_count": null,
      "metadata": {
        "id": "c3aeZBf2RyKJ"
      },
      "outputs": [],
      "source": [
        "import torch\n",
        "import torch.nn as nn\n",
        "import torch.optim as optim\n",
        "import matplotlib.pyplot as plt\n",
        "import numpy as np\n",
        "import os\n",
        "\n",
        "def sinusoidal_embedding(t, dim):\n",
        "    if isinstance(t, int):  # Đảm bảo t là tensor\n",
        "        t = torch.tensor([t], dtype=torch.float32)\n",
        "\n",
        "    half_dim = dim // 2\n",
        "    emb = torch.log(torch.tensor(10000.0)) / (half_dim - 1)\n",
        "    emb = torch.exp(torch.arange(half_dim, dtype=torch.float32) * -emb)  # [half_dim]\n",
        "\n",
        "    emb = t.unsqueeze(0) * emb.unsqueeze(0)  # [1] x [half_dim] -> [1, half_dim]\n",
        "    emb = torch.cat([emb.sin(), emb.cos()], dim=-1)  # [1, dim]\n",
        "\n",
        "    return emb\n",
        "\n",
        "\n",
        "class SmallUNet(nn.Module):\n",
        "    def __init__(self, input_channels, output_channels, T, hidden_dim=64):\n",
        "        super().__init__()\n",
        "        self.time_embed = sinusoidal_embedding(T, hidden_dim)\n",
        "\n",
        "        # Encoder\n",
        "        self.conv1 = nn.Conv2d(input_channels, hidden_dim//2, kernel_size=3, padding=1)\n",
        "        self.conv2 = nn.Conv2d(hidden_dim//2, hidden_dim, kernel_size=3, padding=1)\n",
        "\n",
        "        # Bottleneck\n",
        "        self.bottleneck = nn.Sequential(\n",
        "            nn.Conv2d(hidden_dim + hidden_dim, hidden_dim, kernel_size=3, padding=1),\n",
        "            nn.ReLU(),\n",
        "            nn.Conv2d(hidden_dim, hidden_dim*2, kernel_size=3, padding=1),\n",
        "            nn.ReLU()\n",
        "        )\n",
        "\n",
        "        # Decoder\n",
        "        self.upconv1 = nn.ConvTranspose2d(hidden_dim*2, hidden_dim, kernel_size=3, padding=1)\n",
        "        self.upconv2 = nn.ConvTranspose2d(hidden_dim, hidden_dim//2, kernel_size=3, padding=1)\n",
        "\n",
        "        # Output\n",
        "        self.mu_conv = nn.Conv2d(hidden_dim//2, output_channels, kernel_size=3, padding=1)\n",
        "        self.sigma_conv = nn.Conv2d(hidden_dim//2, output_channels, kernel_size=3, padding=1)\n",
        "\n",
        "    def forward(self, x, t):\n",
        "        # Lấy embedding thời gian và biến đổi nó thành tensor 2D\n",
        "        batch_size = x.shape[0]\n",
        "\n",
        "        # Tạo embedding thời gian tại đây thay vì lưu sẵn\n",
        "        t_emb = self.time_embed.to(x.device)\n",
        "\n",
        "        t_emb = t_emb.view(1, -1, 1, 1).expand(batch_size, -1, x.shape[2], x.shape[3])\n",
        "\n",
        "\n",
        "        # Encoder\n",
        "        x1 = torch.relu(self.conv1(x))\n",
        "        x2 = torch.relu(self.conv2(x1))\n",
        "\n",
        "        # Kết hợp với embedding thời gian\n",
        "        x_t = torch.cat([x2, t_emb], dim=1)\n",
        "\n",
        "        # Bottleneck\n",
        "        x_bottleneck = self.bottleneck(x_t)\n",
        "\n",
        "        # Decoder\n",
        "        x_up1 = torch.relu(self.upconv1(x_bottleneck))\n",
        "        x_up2 = torch.relu(self.upconv2(x_up1))\n",
        "\n",
        "        # Output\n",
        "        mu = self.mu_conv(x_up2)\n",
        "        # Sử dụng clamp để tránh giá trị quá lớn hoặc quá nhỏ\n",
        "        sigma = torch.exp(self.sigma_conv(x_up2)).clamp(min=1e-5, max=1e5)\n",
        "\n",
        "        return mu, sigma\n",
        "\n",
        "class DiffusionModel():\n",
        "    def __init__(self, T, model: nn.Module, device, dim=2):\n",
        "        self.betas = (torch.sigmoid(torch.linspace(-17, 10, T)) * (3e-1 - 1e-5) + 1e-5).to(device)\n",
        "        self.alphas = 1 - self.betas\n",
        "        self.alphas_bar = torch.cumprod(self.alphas, 0)\n",
        "        self.T = T\n",
        "        self.model = model\n",
        "        self.dim = dim\n",
        "        self.device = device\n",
        "\n",
        "    def forward_process(self, x0, t):\n",
        "        \"\"\"\n",
        "        :param t: Number of diffusion steps\n",
        "        \"\"\"\n",
        "        assert 1 <= t <= self.T, f't should be in range [1, {self.T}]'\n",
        "\n",
        "        t = t.to(self.device)\n",
        "        t_idx = t - 1  # index 0->t-1\n",
        "        mu = torch.sqrt(self.alphas_bar[t_idx]) * x0\n",
        "        std = torch.sqrt(1 - self.alphas_bar[t_idx])\n",
        "        epsilon = torch.randn_like(x0)\n",
        "        xt = mu + epsilon * std\n",
        "\n",
        "        std_q = torch.sqrt((1 - self.alphas_bar[t_idx-1])/ (1 - self.alphas_bar[t_idx]) * self.betas[t_idx])\n",
        "        m1 = torch.sqrt(self.alphas_bar[t_idx-1]) * self.betas[t_idx] / (1 - self.alphas_bar[t_idx])\n",
        "        m2 = torch.sqrt(self.alphas[t_idx]) * (1 - self.alphas_bar[t_idx-1]) / (1 - self.alphas_bar[t_idx])\n",
        "        mu_q = m1 * x0 + m2 * xt\n",
        "\n",
        "        return mu_q, std_q, xt\n",
        "\n",
        "    def reverse_process(self, xt, t):\n",
        "        \"\"\"\n",
        "        :param t: Number of diffusion steps\n",
        "        \"\"\"\n",
        "        assert 1 <= t <= self.T, f't should be in range [1, {self.T}]'\n",
        "\n",
        "        t = torch.tensor([t-1], device=self.device)\n",
        "\n",
        "        mu, std = self.model(xt, t)\n",
        "        epsilon = torch.randn_like(xt)\n",
        "        return mu, std, mu + epsilon * std  # image denosing ~ N(mu, std)\n",
        "\n",
        "    def sample(self, batch_size, device):\n",
        "        # Khởi tạo noise với kích thước giống với hình ảnh ban đầu\n",
        "        noise = torch.randn((batch_size, *self.dim)).to(device)\n",
        "        x = noise\n",
        "        samples = [x]\n",
        "        for t in range(self.T, 0, -1):\n",
        "            mu, std, x_new = self.reverse_process(x, t)\n",
        "            x = x_new\n",
        "            samples.append(x)\n",
        "        return samples\n",
        "\n",
        "    def get_loss(self, x0):\n",
        "        \"\"\"\n",
        "        :param x0: batch [batch_size, ...]\n",
        "        \"\"\"\n",
        "        t = torch.randint(2, self.T+1, (1,), device=self.device)\n",
        "        mu_q, sigma_q, xt = self.forward_process(x0, t)\n",
        "        mu_p, sigma_p, _ = self.reverse_process(xt.float(), t.item())\n",
        "\n",
        "        # Thêm epsilon để tránh log(0) và chia cho 0\n",
        "        epsilon = 1e-8\n",
        "        KL = torch.log(sigma_p + epsilon) - torch.log(sigma_q + epsilon) + (sigma_q**2 + (mu_q - mu_p)**2) / (2 * (sigma_p**2 + epsilon))\n",
        "        K = - KL.mean()  # Should be maximized\n",
        "        loss = - K  # Should be minimized\n",
        "        return loss\n",
        "\n",
        "    def save_model(self, path):\n",
        "        \"\"\"Lưu trạng thái mô hình.\"\"\"\n",
        "        torch.save({'model_state_dict': self.model.state_dict()}, path)\n",
        "\n",
        "    def load_model(self, path):\n",
        "        \"\"\"Tải mô hình đã lưu.\"\"\"\n",
        "        checkpoint = torch.load(path, map_location=self.device)\n",
        "        self.model.load_state_dict(checkpoint['model_state_dict'])"
      ]
    },
    {
      "cell_type": "markdown",
      "metadata": {
        "id": "tCy2D7Q1Wd8U"
      },
      "source": [
        "# Train"
      ]
    },
    {
      "cell_type": "code",
      "execution_count": null,
      "metadata": {
        "colab": {
          "base_uri": "https://localhost:8080/"
        },
        "id": "apE8IOEJVP0Z",
        "outputId": "dbe1b170-b15f-4af2-8d11-3b5cc75f8665"
      },
      "outputs": [
        {
          "output_type": "stream",
          "name": "stdout",
          "text": [
            "Sử dụng thiết bị: cuda\n",
            "New best model saved at epoch 1 with loss: 1.2521\n",
            "New best model saved at epoch 4 with loss: 1.2485\n",
            "New best model saved at epoch 7 with loss: 1.2258\n",
            "New best model saved at epoch 8 with loss: 1.2253\n",
            "New best model saved at epoch 10 with loss: 1.2054\n",
            "New best model saved at epoch 11 with loss: 1.1969\n",
            "New best model saved at epoch 16 with loss: 1.1630\n",
            "New best model saved at epoch 17 with loss: 1.1426\n",
            "New best model saved at epoch 24 with loss: 1.1014\n",
            "New best model saved at epoch 27 with loss: 1.0305\n",
            "New best model saved at epoch 41 with loss: 0.9822\n",
            "New best model saved at epoch 46 with loss: 0.9729\n",
            "New best model saved at epoch 49 with loss: 0.9234\n",
            "New best model saved at epoch 51 with loss: 0.8968\n",
            "New best model saved at epoch 60 with loss: 0.8231\n",
            "New best model saved at epoch 376 with loss: 0.7708\n",
            "New best model saved at epoch 383 with loss: 0.7436\n",
            "New best model saved at epoch 648 with loss: 0.7350\n",
            "New best model saved at epoch 699 with loss: 0.7267\n",
            "New best model saved at epoch 710 with loss: 0.6914\n",
            "New best model saved at epoch 978 with loss: 0.6894\n",
            "New best model saved at epoch 985 with loss: 0.6522\n",
            "New best model saved at epoch 991 with loss: 0.6314\n",
            "New best model saved at epoch 1178 with loss: 0.6265\n",
            "New best model saved at epoch 1240 with loss: 0.6230\n",
            "New best model saved at epoch 1321 with loss: 0.6213\n",
            "New best model saved at epoch 1322 with loss: 0.6202\n",
            "New best model saved at epoch 1378 with loss: 0.6090\n",
            "New best model saved at epoch 1445 with loss: 0.5868\n",
            "New best model saved at epoch 1663 with loss: 0.5785\n",
            "New best model saved at epoch 1664 with loss: 0.5627\n",
            "New best model saved at epoch 1782 with loss: 0.5615\n",
            "New best model saved at epoch 1977 with loss: 0.5610\n",
            "New best model saved at epoch 2093 with loss: 0.5529\n",
            "New best model saved at epoch 2329 with loss: 0.5523\n",
            "New best model saved at epoch 2437 with loss: 0.5473\n",
            "New best model saved at epoch 2530 with loss: 0.5440\n",
            "New best model saved at epoch 2538 with loss: 0.5418\n",
            "New best model saved at epoch 2671 with loss: 0.5380\n",
            "New best model saved at epoch 2689 with loss: 0.5337\n",
            "New best model saved at epoch 2834 with loss: 0.5336\n",
            "New best model saved at epoch 3078 with loss: 0.5276\n",
            "New best model saved at epoch 3318 with loss: 0.5264\n",
            "New best model saved at epoch 3663 with loss: 0.5255\n",
            "New best model saved at epoch 3686 with loss: 0.5246\n",
            "New best model saved at epoch 3766 with loss: 0.5216\n",
            "New best model saved at epoch 3922 with loss: 0.5191\n",
            "New best model saved at epoch 3991 with loss: 0.5188\n",
            "New best model saved at epoch 4069 with loss: 0.5186\n",
            "New best model saved at epoch 4120 with loss: 0.5184\n",
            "New best model saved at epoch 4377 with loss: 0.5164\n",
            "New best model saved at epoch 4389 with loss: 0.5153\n",
            "New best model saved at epoch 4639 with loss: 0.5141\n",
            "New best model saved at epoch 5540 with loss: 0.5121\n",
            "New best model saved at epoch 5722 with loss: 0.5085\n",
            "Huấn luyện hoàn tất!\n"
          ]
        }
      ],
      "source": [
        "# Tạo thư mục để lưu mô hình\n",
        "os.makedirs('models', exist_ok=True)\n",
        "\n",
        "# Thiết lập tham số\n",
        "device = torch.device('cuda' if torch.cuda.is_available() else 'cpu')\n",
        "print(f\"Sử dụng thiết bị: {device}\")\n",
        "\n",
        "T = 4  # Số bước khuyếch tán\n",
        "hidden_dim = 64\n",
        "epochs = 6000\n",
        "\n",
        "# Khởi tạo image_5 làm input\n",
        "image_5 = np.array([\n",
        "    [0, 1, 1, 1, 1, 1, 0],\n",
        "    [0, 1, 0, 0, 0, 0, 0],\n",
        "    [0, 1, 0, 0, 0, 0, 0],\n",
        "    [0, 1, 1, 1, 1, 1, 0],\n",
        "    [0, 0, 0, 0, 0, 1, 0],\n",
        "    [0, 1, 0, 0, 0, 1, 0],\n",
        "    [0, 1, 1, 1, 1, 1, 0]\n",
        "], dtype=np.float32)\n",
        "\n",
        "# Thay đổi shape của hình ảnh để phù hợp với mô hình\n",
        "image_tensor = torch.from_numpy(image_5).unsqueeze(0).unsqueeze(0).to(device)  # [1, 1, 7, 7]\n",
        "\n",
        "\n",
        "# Tạo mô hình\n",
        "model = SmallUNet(input_channels=1, output_channels=1, T=T, hidden_dim=hidden_dim).to(device)\n",
        "diffusion = DiffusionModel(T, model, device, dim=(1, 7, 7))  # Sử dụng kích thước hình ảnh làm dim\n",
        "\n",
        "# Khởi tạo optimizer với learning rate nhỏ hơn\n",
        "optimizer = optim.Adam(model.parameters(), lr=1e-4)\n",
        "\n",
        "# Biến để theo dõi loss nhỏ nhất\n",
        "best_loss = float('inf')\n",
        "\n",
        "# Vòng lặp huấn luyện\n",
        "losses = []\n",
        "no_improve_count = 0\n",
        "\n",
        "for epoch in range(epochs):\n",
        "    x_batch = image_tensor.to(device)\n",
        "\n",
        "    # Tính loss\n",
        "    optimizer.zero_grad()\n",
        "    loss = diffusion.get_loss(x_batch)\n",
        "\n",
        "    # Cập nhật mô hình\n",
        "    loss.backward()\n",
        "\n",
        "    # Áp dụng gradient clipping\n",
        "    torch.nn.utils.clip_grad_norm_(model.parameters(), max_norm=1.0)\n",
        "\n",
        "    optimizer.step()\n",
        "\n",
        "    loss_val = loss.item()\n",
        "    losses.append(loss_val)\n",
        "\n",
        "    # Lưu mô hình tốt nhất\n",
        "    if loss_val < best_loss:\n",
        "        best_loss = loss_val\n",
        "        diffusion.save_model(f'models/best_diffusion_model.pth')\n",
        "        print(f\"New best model saved at epoch {epoch+1} with loss: {best_loss:.4f}\")\n",
        "\n",
        "print(\"Huấn luyện hoàn tất!\")"
      ]
    },
    {
      "cell_type": "markdown",
      "metadata": {
        "id": "AqhxEHq7WZvZ"
      },
      "source": [
        "#Visualize"
      ]
    },
    {
      "cell_type": "code",
      "execution_count": null,
      "metadata": {
        "colab": {
          "base_uri": "https://localhost:8080/",
          "height": 500
        },
        "id": "juxZu-v1HfD7",
        "outputId": "4544981b-21fa-4839-85b0-5aaf4d0b7bb5"
      },
      "outputs": [
        {
          "output_type": "stream",
          "name": "stdout",
          "text": [
            "Đang tải mô hình tốt nhất để đánh giá...\n",
            "4\n"
          ]
        },
        {
          "output_type": "display_data",
          "data": {
            "text/plain": [
              "<Figure size 1200x300 with 6 Axes>"
            ],
            "image/png": "[encoded data removed]"
          },
          "metadata": {}
        },
        {
          "output_type": "display_data",
          "data": {
            "text/plain": [
              "<Figure size 1200x300 with 4 Axes>"
            ],
            "image/png": "[encoded data removed]"
          },
          "metadata": {}
        }
      ],
      "source": [
        "# Tải mô hình tốt nhất để đánh giá\n",
        "print(\"Đang tải mô hình tốt nhất để đánh giá...\")\n",
        "best_model = SmallUNet(input_channels=1, output_channels=1, T=T, hidden_dim=hidden_dim).to(device)\n",
        "best_diffusion = DiffusionModel(T, best_model, device, dim=(1, 7, 7))\n",
        "best_diffusion.load_model('models/best_diffusion_model.pth')\n",
        "\n",
        "# Test mô hình với ảnh gốc\n",
        "def test_model(diffusion_model, image_shape, num_samples=4):\n",
        "    \"\"\"\n",
        "    Test mô hình bằng cách tạo ra các mẫu từ nhiễu\n",
        "    \"\"\"\n",
        "    with torch.no_grad():\n",
        "        diffusion_model.model.eval()\n",
        "        samples = diffusion_model.sample(num_samples, device)\n",
        "        final_samples = samples[-1].cpu()\n",
        "        print(len(final_samples))\n",
        "\n",
        "    # Hiển thị kết quả\n",
        "    plt.figure(figsize=(12, 3))\n",
        "\n",
        "    # Vẽ loss\n",
        "    plt.subplot(2, 3, 1)\n",
        "    plt.plot(losses)\n",
        "    plt.title('Loss qua các epoch')\n",
        "    plt.xlabel('Epoch')\n",
        "    plt.ylabel('Loss')\n",
        "\n",
        "    # Vẽ hình ảnh gốc\n",
        "    plt.subplot(2, 3, 2)\n",
        "    plt.imshow(image_5, cmap='gray')\n",
        "    plt.title('Ảnh gốc')\n",
        "    plt.axis('off')\n",
        "\n",
        "    # Vẽ các mẫu được tạo\n",
        "    for i in range(num_samples):\n",
        "        plt.subplot(2, 3, i+3)\n",
        "        plt.imshow(final_samples[i, 0].numpy(), cmap='gray')\n",
        "        plt.title(f'Gen image {i+1}')\n",
        "        plt.axis('off')\n",
        "\n",
        "    plt.tight_layout()\n",
        "    plt.savefig('best_model_results.png')\n",
        "    plt.show()\n",
        "\n",
        "    # Hiển thị quá trình khuyếch tán\n",
        "    plt.figure(figsize=(12, 3))\n",
        "    # Chọn một số bước từ quá trình khuyếch tán để hiển thị\n",
        "    steps = np.arange(diffusion_model.T)  # Lấy tất cả các bước từ 0 đến T\n",
        "\n",
        "    for i, step in enumerate(steps):\n",
        "        plt.subplot(2, 4, i+1)\n",
        "        sample = samples[step][0, 0].cpu().numpy()\n",
        "        plt.imshow(sample, cmap='gray')\n",
        "        plt.title(f'Denoising t={step+1}')\n",
        "        plt.axis('off')\n",
        "\n",
        "    plt.tight_layout()\n",
        "    plt.savefig('best_model_diffusion_process.png')\n",
        "    plt.show()\n",
        "\n",
        "# Kiểm tra mô hình tốt nhất\n",
        "test_model(best_diffusion, (1, 7, 7))"
      ]
    },
    {
      "cell_type": "code",
      "source": [
        "# Tải mô hình tốt nhất để đánh giá\n",
        "print(\"Đang tải mô hình tốt nhất để đánh giá...\")\n",
        "best_model = SmallUNet(input_channels=1, output_channels=1, T=T, hidden_dim=hidden_dim).to(device)\n",
        "best_diffusion = DiffusionModel(T, best_model, device, dim=(1, 7, 7))\n",
        "best_diffusion.load_model('models/best_diffusion_model.pth')\n",
        "\n",
        "# Test mô hình với ảnh gốc\n",
        "def test_model(diffusion_model, image_shape, num_samples=4):\n",
        "    \"\"\"\n",
        "    Test mô hình bằng cách tạo ra các mẫu từ nhiễu\n",
        "    \"\"\"\n",
        "    with torch.no_grad():\n",
        "        diffusion_model.model.eval()\n",
        "        samples = diffusion_model.sample(num_samples, device)\n",
        "        final_samples = samples[-1].cpu()\n",
        "        print(len(final_samples))\n",
        "\n",
        "    # Hiển thị kết quả\n",
        "    plt.figure(figsize=(12, 3))\n",
        "\n",
        "    # Vẽ loss\n",
        "    plt.subplot(2, 3, 1)\n",
        "    plt.plot(losses)\n",
        "    plt.title('Loss qua các epoch')\n",
        "    plt.xlabel('Epoch')\n",
        "    plt.ylabel('Loss')\n",
        "\n",
        "    # Vẽ hình ảnh gốc\n",
        "    plt.subplot(2, 3, 2)\n",
        "    plt.imshow(image_5, cmap='gray')\n",
        "    plt.title('Ảnh gốc')\n",
        "    plt.axis('off')\n",
        "\n",
        "    # Vẽ các mẫu được tạo\n",
        "    for i in range(num_samples):\n",
        "        plt.subplot(2, 3, i+3)\n",
        "        plt.imshow(final_samples[i, 0].numpy(), cmap='gray')\n",
        "        plt.title(f'Gen image {i+1}')\n",
        "        plt.axis('off')\n",
        "\n",
        "    plt.tight_layout()\n",
        "    plt.savefig('best_model_results.png')\n",
        "    plt.show()\n",
        "\n",
        "    # Hiển thị quá trình khuyếch tán\n",
        "    plt.figure(figsize=(12, 3))\n",
        "    # Chọn một số bước từ quá trình khuyếch tán để hiển thị\n",
        "    steps = np.arange(diffusion_model.T)  # Lấy tất cả các bước từ 0 đến T\n",
        "\n",
        "    for i, step in enumerate(steps):\n",
        "        plt.subplot(2, 4, i+1)\n",
        "        sample = samples[step][0, 0].cpu().numpy()\n",
        "        plt.imshow(sample, cmap='gray')\n",
        "        plt.title(f'Denoising t={step+1}')\n",
        "        plt.axis('off')\n",
        "\n",
        "    plt.tight_layout()\n",
        "    plt.savefig('best_model_diffusion_process.png')\n",
        "    plt.show()\n",
        "\n",
        "# Kiểm tra mô hình tốt nhất\n",
        "test_model(best_diffusion, (1, 7, 7))"
      ],
      "metadata": {
        "colab": {
          "base_uri": "https://localhost:8080/",
          "height": 500
        },
        "id": "8SFBjpjSGWHA",
        "outputId": "5254c7c4-0a02-44e3-e0f1-43e727fceaa0"
      },
      "execution_count": null,
      "outputs": [
        {
          "output_type": "stream",
          "name": "stdout",
          "text": [
            "Đang tải mô hình tốt nhất để đánh giá...\n",
            "4\n"
          ]
        },
        {
          "output_type": "display_data",
          "data": {
            "text/plain": [
              "<Figure size 1200x300 with 6 Axes>"
            ],
            "image/png": "[encoded data removed]"
          },
          "metadata": {}
        },
        {
          "output_type": "display_data",
          "data": {
            "text/plain": [
              "<Figure size 1200x300 with 4 Axes>"
            ],
            "image/png": "[encoded data removed]"
          },
          "metadata": {}
        }
      ]
    },
    {
      "cell_type": "markdown",
      "metadata": {
        "id": "CF3oO34xWR28"
      },
      "source": [
        "#Forward"
      ]
    },
    {
      "cell_type": "code",
      "execution_count": null,
      "metadata": {
        "colab": {
          "base_uri": "https://localhost:8080/"
        },
        "id": "RbtBd6MQSqYF",
        "outputId": "1cb496d6-8c0c-40cd-ef9e-ba2618df5ae1"
      },
      "outputs": [
        {
          "output_type": "display_data",
          "data": {
            "text/plain": [
              "<Figure size 1200x200 with 4 Axes>"
            ],
            "image/png": "[encoded data removed]"
          },
          "metadata": {}
        }
      ],
      "source": [
        "import torch\n",
        "import matplotlib.pyplot as plt\n",
        "\n",
        "def visualize_forward_process(diffusion_model, x0, t=10):\n",
        "    \"\"\"\n",
        "    Hiển thị quá trình forward process.\n",
        "    \"\"\"\n",
        "    device = diffusion_model.device\n",
        "    x0 = x0.to(device)\n",
        "\n",
        "    # Forward process\n",
        "    forward_steps = []\n",
        "    xt = x0\n",
        "    for i in range(1, t+1):\n",
        "        mu_q, std_q, xt = diffusion_model.forward_process(x0, torch.tensor(i, device=device))\n",
        "        forward_steps.append(xt.cpu().numpy())\n",
        "\n",
        "    # Hiển thị kết quả\n",
        "    fig, axes = plt.subplots(1, t, figsize=(t*3, 2))\n",
        "\n",
        "    for i in range(t):\n",
        "        axes[i].imshow(forward_steps[i][0, 0], cmap='gray')\n",
        "        axes[i].set_title(f'Forward t={i+1}')\n",
        "        axes[i].axis('off')\n",
        "\n",
        "    plt.tight_layout()\n",
        "    plt.show()\n",
        "\n",
        "# Gọi hàm để hiển thị quá trình forward\n",
        "visualize_forward_process(best_diffusion, image_tensor, t=4)\n"
      ]
    },
    {
      "cell_type": "markdown",
      "metadata": {
        "id": "RCV_oPQKVpr8"
      },
      "source": [
        "# Output forward ---> Reserve"
      ]
    },
    {
      "cell_type": "code",
      "execution_count": null,
      "metadata": {
        "colab": {
          "base_uri": "https://localhost:8080/",
          "height": 409
        },
        "id": "4NLwCNuKJMoD",
        "outputId": "8f91f53c-b3c8-44b6-a7e4-1fa80c20e405"
      },
      "outputs": [
        {
          "output_type": "display_data",
          "data": {
            "text/plain": [
              "<Figure size 800x400 with 8 Axes>"
            ],
            "image/png": "[encoded data removed]"
          },
          "metadata": {}
        }
      ],
      "source": [
        "def visualize_forward_reverse_process(diffusion_model, x0, t=10):\n",
        "    \"\"\"\n",
        "    Hiển thị quá trình forward process và reverse process với t=4.\n",
        "    \"\"\"\n",
        "    device = diffusion_model.device\n",
        "    x0 = x0.to(device)\n",
        "\n",
        "    # Forward process\n",
        "    forward_steps = []\n",
        "    xt = x0\n",
        "    for i in range(1, t+1):\n",
        "        mu_q, std_q, xt = diffusion_model.forward_process(x0, torch.tensor(i, device=device))\n",
        "        forward_steps.append(xt.cpu().numpy())\n",
        "\n",
        "    # Reverse process\n",
        "    reverse_steps = []\n",
        "    xt_reverse = xt  # Bắt đầu từ xt cuối cùng của forward process\n",
        "    for i in range(t, 0, -1):\n",
        "        mu_p, sigma_p, xt_reverse = diffusion_model.reverse_process(xt_reverse, i)\n",
        "        reverse_steps.append(xt_reverse.detach().cpu().numpy())\n",
        "\n",
        "    # Hiển thị kết quả\n",
        "    fig, axes = plt.subplots(2, t, figsize=(t*2, 4))\n",
        "\n",
        "    # Hiển thị forward process\n",
        "    for i in range(t):\n",
        "        axes[0, i].imshow(forward_steps[i][0, 0], cmap='gray')\n",
        "        axes[0, i].set_title(f'Forward t={i+1}')\n",
        "        axes[0, i].axis('off')\n",
        "\n",
        "    # Hiển thị reverse process\n",
        "    for i in range(t):\n",
        "        axes[1, i].imshow(reverse_steps[i][0, 0], cmap='gray')\n",
        "        axes[1, i].set_title(f'Reverse t={i+1}')\n",
        "        axes[1, i].axis('off')\n",
        "\n",
        "    plt.tight_layout()\n",
        "    plt.savefig('forward_reverse_process.png')\n",
        "    plt.show()\n",
        "\n",
        "\n",
        "visualize_forward_reverse_process(best_diffusion, image_tensor, t=4)\n"
      ]
    },
    {
      "cell_type": "markdown",
      "metadata": {
        "id": "uLFS_BrVVdBV"
      },
      "source": [
        "# Random noisy ---> Reverse"
      ]
    },
    {
      "cell_type": "code",
      "execution_count": null,
      "metadata": {
        "colab": {
          "base_uri": "https://localhost:8080/"
        },
        "id": "ZwE7lsAFOjHN",
        "outputId": "40f98013-d801-4722-b5ba-c44776602260"
      },
      "outputs": [
        {
          "output_type": "display_data",
          "data": {
            "text/plain": [
              "<Figure size 1000x200 with 5 Axes>"
            ],
            "image/png": "[encoded data removed]"
          },
          "metadata": {}
        }
      ],
      "source": [
        "def visualize_reverse_process(diffusion_model, t=4):\n",
        "    \"\"\"\n",
        "    Hiển thị quá trình reverse process từ noise.\n",
        "    \"\"\"\n",
        "    device = diffusion_model.device\n",
        "\n",
        "    # Khởi tạo noise ngẫu nhiên\n",
        "    xt_reverse = torch.randn((1, 1, 7, 7), device=device)  # Kích thước ảnh 7x7\n",
        "\n",
        "\n",
        "    # Reverse process\n",
        "    reverse_steps = [xt_reverse.cpu().numpy()]\n",
        "    for i in range(t, 0, -1):\n",
        "        mu_p, sigma_p, xt_reverse = diffusion_model.reverse_process(xt_reverse, i)\n",
        "        reverse_steps.append(xt_reverse.detach().cpu().numpy())\n",
        "\n",
        "    # Hiển thị kết quả\n",
        "    fig, axes = plt.subplots(1, t+1, figsize=((t+1)*2, 2))\n",
        "\n",
        "    for i in range(t+1):\n",
        "        if i == 0:\n",
        "            axes[i].imshow(reverse_steps[i][0, 0], cmap='gray')\n",
        "            axes[i].set_title(f'Random noisy')\n",
        "            axes[i].axis('off')\n",
        "        else:\n",
        "            axes[i].imshow(reverse_steps[i][0, 0], cmap='gray')\n",
        "            axes[i].set_title(f'Reverse t={i}')\n",
        "            axes[i].axis('off')\n",
        "\n",
        "    plt.tight_layout()\n",
        "    plt.savefig('reverse_process.png')\n",
        "    plt.show()\n",
        "visualize_reverse_process(best_diffusion, t=4)"
      ]
    }
  ],
  "metadata": {
    "accelerator": "GPU",
    "colab": {
      "gpuType": "T4",
      "provenance": [],
      "toc_visible": true
    },
    "kernelspec": {
      "display_name": "Python 3",
      "name": "python3"
    },
    "language_info": {
      "codemirror_mode": {
        "name": "ipython",
        "version": 3
      },
      "file_extension": ".py",
      "mimetype": "text/x-python",
      "name": "python",
      "nbconvert_exporter": "python",
      "pygments_lexer": "ipython3",
      "version": "3.10.14"
    }
  },
  "nbformat": 4,
  "nbformat_minor": 0
}